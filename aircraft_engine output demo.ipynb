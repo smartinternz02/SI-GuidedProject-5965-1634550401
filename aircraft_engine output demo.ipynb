{
 "cells": [
  {
   "cell_type": "code",
   "execution_count": null,
   "metadata": {},
   "outputs": [],
   "source": [
    "demo:https://drive.google.com/file/d/1mZaJmqBN4JSgkYjkJ7b3aRLLrUdkz10o/view?usp=sharing"
   ]
  }
 ],
 "metadata": {
  "kernelspec": {
   "display_name": "Python 3",
   "language": "python",
   "name": "python3"
  }
 },
 "nbformat": 4,
 "nbformat_minor": 2
}
